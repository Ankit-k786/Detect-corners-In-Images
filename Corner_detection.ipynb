{
 "cells": [
  {
   "cell_type": "markdown",
   "metadata": {},
   "source": [
    "# HARRIS CORNER DETECTION"
   ]
  },
  {
   "cell_type": "code",
   "execution_count": 5,
   "metadata": {},
   "outputs": [
    {
     "data": {
      "text/plain": [
       "Text(0.5, 1.0, 'HARRIS corner detected image')"
      ]
     },
     "execution_count": 5,
     "metadata": {},
     "output_type": "execute_result"
    },
    {
     "data": {
      "image/png": "[encoded data removed]",
      "text/plain": [
       "<Figure size 1080x1080 with 2 Axes>"
      ]
     },
     "metadata": {
      "needs_background": "light"
     },
     "output_type": "display_data"
    }
   ],
   "source": [
    "import matplotlib.pyplot as plt\n",
    "import numpy as np\n",
    "import cv2\n",
    "from skimage.color import rgb2gray\n",
    "#threshold=8000000000 #for Clipboard01.jpg\n",
    "#threshold=8000000000\n",
    "threshold=.1 #for Clipboard02.jpg\n",
    "threshold1=.15\n",
    "\n",
    "\n",
    "k=.05\n",
    "x=np.linspace(-1,1,3)\n",
    "dx,dy=np.meshgrid(x,x)\n",
    "img=cv2.imread('C:/Users/Ankit/Desktop/computer vison/a4-checkerboard.png')\n",
    "# img=cv2.imread('C:/Users/Ankit/Desktop/computer vison/Clipboard01.jpg',0)\n",
    "#img=cv2.imread('C:/Users/Ankit/Desktop/computer vison/Clipboard02.jpg')\n",
    "\n",
    "img= rgb2gray(img)\n",
    "img = img.astype(np.float32)\n",
    "#plt.imshow(img,cmap='gray')\n",
    "Ix = cv2.filter2D(img,-1,dx)\n",
    "Iy = cv2.filter2D(img,-1,dy)\n",
    "Ix2 = cv2.GaussianBlur(np.multiply(Ix,Ix), (15, 15), 1)\n",
    "Iy2 = cv2.GaussianBlur(np.multiply(Iy,Iy), (15, 15), 1)\n",
    "Ixy = cv2.GaussianBlur(np.multiply(Ix,Iy), (15, 15), 1)\n",
    "ws=3\n",
    "v=int((ws-1)/2)\n",
    "px=[]\n",
    "py=[]\n",
    "qx=[]\n",
    "qy=[]\n",
    "for i in range (v,img.shape[0]-v):\n",
    "    for j in range (v,img.shape[1]-v):\n",
    "        a=(Ix2[i,j])#[i-v:i+v+1,j-v:j+v+1]).sum()\n",
    "        b=(Iy2[i,j])#[i-v:i+v+1,j-v:j+v+1]).sum()\n",
    "        c=(Ixy[i,j])#[i-v:i+v+1,j-v:j+v+1]).sum()\n",
    "        arr=np.array([[a,c],[c,b]])\n",
    "        evl,evc=np.linalg.eigh(arr)\n",
    "        R1=min(evl)\n",
    "        R=((a*b)-(c*c))-k*((a+b)**2)\n",
    "#         if R>=threshold:\n",
    "#             px.append(j)\n",
    "#             py.append(i)\n",
    "        if R1>=threshold1:\n",
    "            qx.append(j)\n",
    "            qy.append(i)\n",
    "#------------------------------------------------------------------------------------------------------------------\n",
    "# img1=cv2.imread('C:/Users/Ankit/Downloads/a1.jpg')\n",
    "# img1=rgb2gray(img1)\n",
    "# img1=img1.reshape()\n",
    "# img1 = img1.astype(np.float32)\n",
    "# #plt.imshow(img,cmap='gray')\n",
    "# Ix = cv2.filter2D(img1,-1,dx)\n",
    "# Iy = cv2.filter2D(img1,-1,dy)\n",
    "# Ix2 = cv2.GaussianBlur(np.multiply(Ix,Ix), (15, 15), 1)\n",
    "# Iy2 = cv2.GaussianBlur(np.multiply(Iy,Iy), (15, 15), 1)\n",
    "# Ixy = cv2.GaussianBlur(np.multiply(Ix,Iy), (15, 15), 1)\n",
    "# ws=3\n",
    "# v=int((ws-1)/2)\n",
    "# px=[]\n",
    "# py=[]\n",
    "# qx1=[]\n",
    "# qy1=[]\n",
    "# for i in range (v,img1.shape[0]-v):\n",
    "#     for j in range (v,img1.shape[1]-v):\n",
    "#         a=(Ix2[i,j])#[i-v:i+v+1,j-v:j+v+1]).sum()\n",
    "#         b=(Iy2[i,j])#[i-v:i+v+1,j-v:j+v+1]).sum()\n",
    "#         c=(Ixy[i,j])#[i-v:i+v+1,j-v:j+v+1]).sum()\n",
    "#         arr=np.array([[a,c],[c,b]])\n",
    "#         evl,evc=np.linalg.eigh(arr)\n",
    "#         R1=min(evl)\n",
    "#         R=((a*b)-(c*c))-k*((a+b)**2)\n",
    "# #         if R>=threshold:\n",
    "# #             px.append(j)\n",
    "# #             py.append(i)\n",
    "#         if R1>=threshold1:\n",
    "#             qx1.append(j)\n",
    "#             qy1.append(i)\n",
    "\n",
    "\n",
    "\n",
    "\n",
    "\n",
    "\n",
    "\n",
    "#-------------------------------------------------------------------------------------------------------------------\n",
    "        \n",
    "figure=plt.figure(figsize=(15,15))\n",
    "plt.subplot(1,2,1)\n",
    "plt.imshow(img,cmap='gray')\n",
    "plt.title(\"original image\")\n",
    "plt.subplot(1,2,2)\n",
    "plt.imshow(img,cmap='gray')\n",
    "plt.scatter(qx,qy,marker='.',color='r')#s=100,linewidths=.1,facecolors='none', edgecolors='r')\n",
    "plt.title(\"HARRIS corner detected image\")\n",
    "# plt.subplot(1,3,3)\n",
    "# plt.imshow(img,cmap='gray')\n",
    "# plt.scatter(qx,qy,marker='.',color='r')#,s=100,linewidths=.1,facecolors='none', edgecolors='r')\n",
    "# plt.title(\"Shi-Tomasi corner detected image\")\n"
   ]
  },
  {
   "cell_type": "code",
   "execution_count": null,
   "metadata": {},
   "outputs": [],
   "source": []
  }
 ],
 "metadata": {
  "kernelspec": {
   "display_name": "Python 3 (ipykernel)",
   "language": "python",
   "name": "python3"
  },
  "language_info": {
   "codemirror_mode": {
    "name": "ipython",
    "version": 3
   },
   "file_extension": ".py",
   "mimetype": "text/x-python",
   "name": "python",
   "nbconvert_exporter": "python",
   "pygments_lexer": "ipython3",
   "version": "3.9.12"
  }
 },
 "nbformat": 4,
 "nbformat_minor": 2
}
